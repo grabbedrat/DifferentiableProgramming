{
 "cells": [
  {
   "cell_type": "code",
   "execution_count": 1,
   "id": "ddbc6239-e1aa-4650-ad29-a6e886af5622",
   "metadata": {},
   "outputs": [],
   "source": [
    "#Differentiable Programming Part 1 -  Mainz Institute for Theoretical Physics - https://www.youtube.com/watch?v=9OvU9T2-pNs&list=WL&index=62"
   ]
  },
  {
   "cell_type": "code",
   "execution_count": 2,
   "id": "0ba3e751-fc4a-401e-b84c-eb72d4faab15",
   "metadata": {},
   "outputs": [
    {
     "name": "stdout",
     "output_type": "stream",
     "text": [
      "Requirement already satisfied: torch in /home/tim/miniforge3/lib/python3.10/site-packages (2.2.1)\n",
      "Requirement already satisfied: filelock in /home/tim/miniforge3/lib/python3.10/site-packages (from torch) (3.13.1)\n",
      "Requirement already satisfied: typing-extensions>=4.8.0 in /home/tim/miniforge3/lib/python3.10/site-packages (from torch) (4.10.0)\n",
      "Requirement already satisfied: sympy in /home/tim/miniforge3/lib/python3.10/site-packages (from torch) (1.12)\n",
      "Requirement already satisfied: networkx in /home/tim/miniforge3/lib/python3.10/site-packages (from torch) (3.2.1)\n",
      "Requirement already satisfied: jinja2 in /home/tim/.local/lib/python3.10/site-packages (from torch) (3.1.3)\n",
      "Requirement already satisfied: fsspec in /home/tim/miniforge3/lib/python3.10/site-packages (from torch) (2024.2.0)\n",
      "Requirement already satisfied: nvidia-cuda-nvrtc-cu12==12.1.105 in /home/tim/miniforge3/lib/python3.10/site-packages (from torch) (12.1.105)\n",
      "Requirement already satisfied: nvidia-cuda-runtime-cu12==12.1.105 in /home/tim/miniforge3/lib/python3.10/site-packages (from torch) (12.1.105)\n",
      "Requirement already satisfied: nvidia-cuda-cupti-cu12==12.1.105 in /home/tim/miniforge3/lib/python3.10/site-packages (from torch) (12.1.105)\n",
      "Requirement already satisfied: nvidia-cudnn-cu12==8.9.2.26 in /home/tim/miniforge3/lib/python3.10/site-packages (from torch) (8.9.2.26)\n",
      "Requirement already satisfied: nvidia-cublas-cu12==12.1.3.1 in /home/tim/miniforge3/lib/python3.10/site-packages (from torch) (12.1.3.1)\n",
      "Requirement already satisfied: nvidia-cufft-cu12==11.0.2.54 in /home/tim/miniforge3/lib/python3.10/site-packages (from torch) (11.0.2.54)\n",
      "Requirement already satisfied: nvidia-curand-cu12==10.3.2.106 in /home/tim/miniforge3/lib/python3.10/site-packages (from torch) (10.3.2.106)\n",
      "Requirement already satisfied: nvidia-cusolver-cu12==11.4.5.107 in /home/tim/miniforge3/lib/python3.10/site-packages (from torch) (11.4.5.107)\n",
      "Requirement already satisfied: nvidia-cusparse-cu12==12.1.0.106 in /home/tim/miniforge3/lib/python3.10/site-packages (from torch) (12.1.0.106)\n",
      "Requirement already satisfied: nvidia-nccl-cu12==2.19.3 in /home/tim/miniforge3/lib/python3.10/site-packages (from torch) (2.19.3)\n",
      "Requirement already satisfied: nvidia-nvtx-cu12==12.1.105 in /home/tim/miniforge3/lib/python3.10/site-packages (from torch) (12.1.105)\n",
      "Requirement already satisfied: triton==2.2.0 in /home/tim/miniforge3/lib/python3.10/site-packages (from torch) (2.2.0)\n",
      "Requirement already satisfied: nvidia-nvjitlink-cu12 in /home/tim/miniforge3/lib/python3.10/site-packages (from nvidia-cusolver-cu12==11.4.5.107->torch) (12.3.101)\n",
      "Requirement already satisfied: MarkupSafe>=2.0 in /home/tim/.local/lib/python3.10/site-packages (from jinja2->torch) (2.1.5)\n",
      "Requirement already satisfied: mpmath>=0.19 in /home/tim/miniforge3/lib/python3.10/site-packages (from sympy->torch) (1.3.0)\n",
      "Requirement already satisfied: matplotlib in /home/tim/.local/lib/python3.10/site-packages (3.8.2)\n",
      "Requirement already satisfied: contourpy>=1.0.1 in /home/tim/.local/lib/python3.10/site-packages (from matplotlib) (1.2.0)\n",
      "Requirement already satisfied: cycler>=0.10 in /home/tim/.local/lib/python3.10/site-packages (from matplotlib) (0.12.1)\n",
      "Requirement already satisfied: fonttools>=4.22.0 in /home/tim/.local/lib/python3.10/site-packages (from matplotlib) (4.48.1)\n",
      "Requirement already satisfied: kiwisolver>=1.3.1 in /home/tim/.local/lib/python3.10/site-packages (from matplotlib) (1.4.5)\n",
      "Requirement already satisfied: numpy<2,>=1.21 in /home/tim/.local/lib/python3.10/site-packages (from matplotlib) (1.26.4)\n",
      "Requirement already satisfied: packaging>=20.0 in /home/tim/miniforge3/lib/python3.10/site-packages (from matplotlib) (23.2)\n",
      "Requirement already satisfied: pillow>=8 in /home/tim/miniforge3/lib/python3.10/site-packages (from matplotlib) (10.2.0)\n",
      "Requirement already satisfied: pyparsing>=2.3.1 in /home/tim/miniforge3/lib/python3.10/site-packages (from matplotlib) (3.1.1)\n",
      "Requirement already satisfied: python-dateutil>=2.7 in /home/tim/.local/lib/python3.10/site-packages (from matplotlib) (2.8.2)\n",
      "Requirement already satisfied: six>=1.5 in /home/tim/miniforge3/lib/python3.10/site-packages (from python-dateutil>=2.7->matplotlib) (1.16.0)\n",
      "Requirement already satisfied: numpy in /home/tim/.local/lib/python3.10/site-packages (1.26.4)\n"
     ]
    }
   ],
   "source": [
    "!pip install torch\n",
    "!pip install matplotlib\n",
    "!pip install numpy"
   ]
  },
  {
   "cell_type": "code",
   "execution_count": 35,
   "id": "b0184d63-0be7-41f3-808a-ede96615d384",
   "metadata": {},
   "outputs": [],
   "source": [
    "import torch\n",
    "import matplotlib.pyplot as plt\n",
    "import numpy as np\n",
    "\n",
    "def generate_data(N):\n",
    "    X = torch.randint(0,9, size = (N, 10))\n",
    "    num2s = torch.count_nonzero(X == 2, dim = -1)\n",
    "    num4s = torch.count_nonzero(X == 4, dim = -1)\n",
    "\n",
    "    labels = (num4s > num2s)\n",
    "\n",
    "    return X, labels\n",
    "\n",
    "X, y = generate_data(123)"
   ]
  },
  {
   "cell_type": "code",
   "execution_count": 36,
   "id": "7e5eab60-136b-47f4-b7eb-3570300d01d2",
   "metadata": {},
   "outputs": [],
   "source": [
    "class AttentionModel(torch.nn.Module):\n",
    "    def __init__(self):\n",
    "        super().__init__()\n",
    "        self.query = torch.nn.Parameter(torch.randn(1,16))\n",
    "        self.embed_func = torch.nn.Embedding(10, embedding_dim=16)\n",
    "        self.key_func = torch.nn.Linear(16,16)\n",
    "\n",
    "        self.value_func = torch.nn.Sequential(\n",
    "            torch.nn.Linear(16,32),\n",
    "            torch.nn.ReLU(),\n",
    "            torch.nn.Linear(32,1)\n",
    "        )\n",
    "\n",
    "        self.head_mlp = torch.nn.Sequential(\n",
    "            torch.nn.Linear(1,32),\n",
    "            torch.nn.ReLU(),\n",
    "            torch.nn.Linear(32,1),\n",
    "            torch.nn.Sigmoid()\n",
    "        )\n",
    "\n",
    "    def forward(self, X):\n",
    "            embedX = self.embed_func(X)\n",
    "            keys = self.key_func(embedX)\n",
    "            qk=torch.einsum('ie, bje -> bij', self.query, keys)\n",
    "            qk = qk / 16**0.5\n",
    "            att = torch.nn.functional.softmax(qk, dim = -1)\n",
    "\n",
    "            vals = self.value_func(embedX)\n",
    "            summary = torch.einsum('bij, bje->bie', att, vals)[:,0,:]\n",
    "            pred = self.head_mlp(summary)\n",
    "\n",
    "            return pred, att, vals"
   ]
  },
  {
   "cell_type": "code",
   "execution_count": 37,
   "id": "74c7d9f2-f1cf-4f4f-9bc3-223d11f19965",
   "metadata": {},
   "outputs": [
    {
     "data": {
      "text/plain": [
       "(array([ 3.,  5., 12., 21., 26., 20., 19.,  8.,  5.,  4.]),\n",
       " array([0.35346076, 0.3567875 , 0.36011422, 0.36344096, 0.36676767,\n",
       "        0.37009442, 0.37342116, 0.37674788, 0.38007462, 0.38340133,\n",
       "        0.38672808]),\n",
       " <BarContainer object of 10 artists>)"
      ]
     },
     "execution_count": 37,
     "metadata": {},
     "output_type": "execute_result"
    },
    {
     "data": {
      "image/png": "[encoded data removed]",
      "text/plain": [
       "<Figure size 640x480 with 1 Axes>"
      ]
     },
     "metadata": {},
     "output_type": "display_data"
    }
   ],
   "source": [
    "model = AttentionModel()\n",
    "\n",
    "X, y = generate_data(123)\n",
    "p, a, v = model(X)\n",
    "\n",
    "plt.hist(p.detach().ravel())"
   ]
  },
  {
   "cell_type": "code",
   "execution_count": null,
   "id": "75f9ce96-1a5f-40dd-b291-883d800d3e6d",
   "metadata": {},
   "outputs": [],
   "source": []
  }
 ],
 "metadata": {
  "kernelspec": {
   "display_name": "Python 3 (ipykernel)",
   "language": "python",
   "name": "python3"
  },
  "language_info": {
   "codemirror_mode": {
    "name": "ipython",
    "version": 3
   },
   "file_extension": ".py",
   "mimetype": "text/x-python",
   "name": "python",
   "nbconvert_exporter": "python",
   "pygments_lexer": "ipython3",
   "version": "3.10.13"
  }
 },
 "nbformat": 4,
 "nbformat_minor": 5
}
