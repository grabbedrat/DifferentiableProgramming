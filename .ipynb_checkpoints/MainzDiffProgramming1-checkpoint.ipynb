{
 "cells": [
  {
   "cell_type": "code",
   "execution_count": 1,
   "id": "ddbc6239-e1aa-4650-ad29-a6e886af5622",
   "metadata": {},
   "outputs": [],
   "source": [
    "#Differentiable Programming Part 1 -  Mainz Institute for Theoretical Physics - https://www.youtube.com/watch?v=9OvU9T2-pNs&list=WL&index=62"
   ]
  },
  {
   "cell_type": "code",
   "execution_count": 2,
   "id": "0ba3e751-fc4a-401e-b84c-eb72d4faab15",
   "metadata": {},
   "outputs": [
    {
     "name": "stdout",
     "output_type": "stream",
     "text": [
      "Requirement already satisfied: torch in /home/tim/miniforge3/lib/python3.10/site-packages (2.2.1)\n",
      "Requirement already satisfied: filelock in /home/tim/miniforge3/lib/python3.10/site-packages (from torch) (3.13.1)\n",
      "Requirement already satisfied: typing-extensions>=4.8.0 in /home/tim/miniforge3/lib/python3.10/site-packages (from torch) (4.10.0)\n",
      "Requirement already satisfied: sympy in /home/tim/miniforge3/lib/python3.10/site-packages (from torch) (1.12)\n",
      "Requirement already satisfied: networkx in /home/tim/miniforge3/lib/python3.10/site-packages (from torch) (3.2.1)\n",
      "Requirement already satisfied: jinja2 in /home/tim/.local/lib/python3.10/site-packages (from torch) (3.1.3)\n",
      "Requirement already satisfied: fsspec in /home/tim/miniforge3/lib/python3.10/site-packages (from torch) (2024.2.0)\n",
      "Requirement already satisfied: nvidia-cuda-nvrtc-cu12==12.1.105 in /home/tim/miniforge3/lib/python3.10/site-packages (from torch) (12.1.105)\n",
      "Requirement already satisfied: nvidia-cuda-runtime-cu12==12.1.105 in /home/tim/miniforge3/lib/python3.10/site-packages (from torch) (12.1.105)\n",
      "Requirement already satisfied: nvidia-cuda-cupti-cu12==12.1.105 in /home/tim/miniforge3/lib/python3.10/site-packages (from torch) (12.1.105)\n",
      "Requirement already satisfied: nvidia-cudnn-cu12==8.9.2.26 in /home/tim/miniforge3/lib/python3.10/site-packages (from torch) (8.9.2.26)\n",
      "Requirement already satisfied: nvidia-cublas-cu12==12.1.3.1 in /home/tim/miniforge3/lib/python3.10/site-packages (from torch) (12.1.3.1)\n",
      "Requirement already satisfied: nvidia-cufft-cu12==11.0.2.54 in /home/tim/miniforge3/lib/python3.10/site-packages (from torch) (11.0.2.54)\n",
      "Requirement already satisfied: nvidia-curand-cu12==10.3.2.106 in /home/tim/miniforge3/lib/python3.10/site-packages (from torch) (10.3.2.106)\n",
      "Requirement already satisfied: nvidia-cusolver-cu12==11.4.5.107 in /home/tim/miniforge3/lib/python3.10/site-packages (from torch) (11.4.5.107)\n",
      "Requirement already satisfied: nvidia-cusparse-cu12==12.1.0.106 in /home/tim/miniforge3/lib/python3.10/site-packages (from torch) (12.1.0.106)\n",
      "Requirement already satisfied: nvidia-nccl-cu12==2.19.3 in /home/tim/miniforge3/lib/python3.10/site-packages (from torch) (2.19.3)\n",
      "Requirement already satisfied: nvidia-nvtx-cu12==12.1.105 in /home/tim/miniforge3/lib/python3.10/site-packages (from torch) (12.1.105)\n",
      "Requirement already satisfied: triton==2.2.0 in /home/tim/miniforge3/lib/python3.10/site-packages (from torch) (2.2.0)\n",
      "Requirement already satisfied: nvidia-nvjitlink-cu12 in /home/tim/miniforge3/lib/python3.10/site-packages (from nvidia-cusolver-cu12==11.4.5.107->torch) (12.3.101)\n",
      "Requirement already satisfied: MarkupSafe>=2.0 in /home/tim/.local/lib/python3.10/site-packages (from jinja2->torch) (2.1.5)\n",
      "Requirement already satisfied: mpmath>=0.19 in /home/tim/miniforge3/lib/python3.10/site-packages (from sympy->torch) (1.3.0)\n",
      "Requirement already satisfied: matplotlib in /home/tim/.local/lib/python3.10/site-packages (3.8.2)\n",
      "Requirement already satisfied: contourpy>=1.0.1 in /home/tim/.local/lib/python3.10/site-packages (from matplotlib) (1.2.0)\n",
      "Requirement already satisfied: cycler>=0.10 in /home/tim/.local/lib/python3.10/site-packages (from matplotlib) (0.12.1)\n",
      "Requirement already satisfied: fonttools>=4.22.0 in /home/tim/.local/lib/python3.10/site-packages (from matplotlib) (4.48.1)\n",
      "Requirement already satisfied: kiwisolver>=1.3.1 in /home/tim/.local/lib/python3.10/site-packages (from matplotlib) (1.4.5)\n",
      "Requirement already satisfied: numpy<2,>=1.21 in /home/tim/.local/lib/python3.10/site-packages (from matplotlib) (1.26.4)\n",
      "Requirement already satisfied: packaging>=20.0 in /home/tim/miniforge3/lib/python3.10/site-packages (from matplotlib) (23.2)\n",
      "Requirement already satisfied: pillow>=8 in /home/tim/miniforge3/lib/python3.10/site-packages (from matplotlib) (10.2.0)\n",
      "Requirement already satisfied: pyparsing>=2.3.1 in /home/tim/miniforge3/lib/python3.10/site-packages (from matplotlib) (3.1.1)\n",
      "Requirement already satisfied: python-dateutil>=2.7 in /home/tim/.local/lib/python3.10/site-packages (from matplotlib) (2.8.2)\n",
      "Requirement already satisfied: six>=1.5 in /home/tim/miniforge3/lib/python3.10/site-packages (from python-dateutil>=2.7->matplotlib) (1.16.0)\n",
      "Requirement already satisfied: numpy in /home/tim/.local/lib/python3.10/site-packages (1.26.4)\n"
     ]
    }
   ],
   "source": [
    "!pip install torch\n",
    "!pip install matplotlib\n",
    "!pip install numpy"
   ]
  },
  {
   "cell_type": "code",
   "execution_count": 3,
   "id": "b0184d63-0be7-41f3-808a-ede96615d384",
   "metadata": {},
   "outputs": [],
   "source": [
    "import torch\n",
    "import matplotlib.pyplot as plt\n",
    "import numpy as np\n",
    "\n",
    "def generate_data(N):\n",
    "    X = torch.randint(0,9, size = (N, 10))\n",
    "    num2s = torch.count_nonzero(X == 2, dim = -1)\n",
    "    num4s = torch.count_nonzero(X == 4, dim = -1)\n",
    "\n",
    "    labels = (num4s > num2s)\n",
    "\n",
    "    return X, labels\n",
    "\n",
    "X, y = generate_data(123)"
   ]
  },
  {
   "cell_type": "code",
   "execution_count": 40,
   "id": "7e5eab60-136b-47f4-b7eb-3570300d01d2",
   "metadata": {},
   "outputs": [],
   "source": [
    "class AttentionModel(torch.nn.Module):\n",
    "    def __init__(self):\n",
    "        self.query = torch.nn.Parameter(torch.randn(1,16))\n",
    "        self.embed_func = torch.nn.Embedding(10, embedding_dim=16)\n",
    "        self.key_func = torch.nn.Linear(16,16)\n",
    "\n",
    "        self.value_func = torch.nn.Sequential(\n",
    "            torch.nn.Linear(16,32),\n",
    "            torch.nn.ReLU(),\n",
    "            torch.nn.Linear(32,1)\n",
    "        )"
   ]
  },
  {
   "cell_type": "code",
   "execution_count": 8,
   "id": "74c7d9f2-f1cf-4f4f-9bc3-223d11f19965",
   "metadata": {},
   "outputs": [],
   "source": [
    "keys = key_func(embedX)"
   ]
  },
  {
   "cell_type": "code",
   "execution_count": 9,
   "id": "4bb44411-e896-493e-88a9-155b4eae815b",
   "metadata": {
    "scrolled": true
   },
   "outputs": [],
   "source": [
    "qk=torch.einsum('ie, bje -> bij', query, keys)\n",
    "qk = qk / 16**0.5\n",
    "att = torch.nn.functional.softmax(qk, dim = -1)\n",
    "\n",
    "#att.sum(dim = -1)"
   ]
  },
  {
   "cell_type": "code",
   "execution_count": 10,
   "id": "47ff0488-3ca9-452b-8ccd-4de06d6b3731",
   "metadata": {},
   "outputs": [
    {
     "data": {
      "text/plain": [
       "<matplotlib.image.AxesImage at 0x7faacd7d5870>"
      ]
     },
     "execution_count": 10,
     "metadata": {},
     "output_type": "execute_result"
    },
    {
     "data": {
      "image/png": "[encoded data removed]",
      "text/plain": [
       "<Figure size 640x480 with 1 Axes>"
      ]
     },
     "metadata": {},
     "output_type": "display_data"
    }
   ],
   "source": [
    "plt.imshow(qk[0].detach())"
   ]
  },
  {
   "cell_type": "code",
   "execution_count": 30,
   "id": "e18a8401-1303-4b10-a5cf-fa03350939bc",
   "metadata": {},
   "outputs": [],
   "source": [
    "value_func = torch.nn.Sequential(\n",
    "    torch.nn.Linear(16,32),\n",
    "    torch.nn.ReLU(),\n",
    "    torch.nn.Linear(32,1)\n",
    ")\n",
    "\n",
    "head_mlp = torch.nn.Sequential(\n",
    "    torch.nn.Linear(1,32),\n",
    "    torch.nn.ReLU(),\n",
    "    torch.nn.Linear(32,1),\n",
    "    torch.nn.Sigmoid()\n",
    ")"
   ]
  },
  {
   "cell_type": "code",
   "execution_count": 31,
   "id": "e4565f0f-0187-4543-aecf-3d4811db92f8",
   "metadata": {},
   "outputs": [],
   "source": [
    "vals = value_func(embedX)\n",
    "#vals"
   ]
  },
  {
   "cell_type": "code",
   "execution_count": 32,
   "id": "21a451a9-6ab2-4897-883b-5ecfff56675d",
   "metadata": {},
   "outputs": [],
   "source": [
    "summary = torch.einsum('bij, bje->bie', att, vals)[:,0,:]"
   ]
  },
  {
   "cell_type": "code",
   "execution_count": 35,
   "id": "1f25b280-e057-4b33-b3a6-095f1c101d49",
   "metadata": {},
   "outputs": [],
   "source": [
    "pred = head_mlp(summary)"
   ]
  },
  {
   "cell_type": "code",
   "execution_count": 36,
   "id": "ca9a4900-1e09-4ab0-bbd2-488698e19b41",
   "metadata": {},
   "outputs": [
    {
     "data": {
      "text/plain": [
       "tensor([[0.5072],\n",
       "        [0.5153],\n",
       "        [0.5119],\n",
       "        [0.5111],\n",
       "        [0.5143],\n",
       "        [0.5129],\n",
       "        [0.5160],\n",
       "        [0.5124],\n",
       "        [0.5105],\n",
       "        [0.5103],\n",
       "        [0.5130],\n",
       "        [0.5135],\n",
       "        [0.5146],\n",
       "        [0.5177],\n",
       "        [0.5151],\n",
       "        [0.5178],\n",
       "        [0.5165],\n",
       "        [0.5180],\n",
       "        [0.5166],\n",
       "        [0.5033],\n",
       "        [0.5107],\n",
       "        [0.5175],\n",
       "        [0.5107],\n",
       "        [0.5178],\n",
       "        [0.5134],\n",
       "        [0.5190],\n",
       "        [0.5138],\n",
       "        [0.5131],\n",
       "        [0.5113],\n",
       "        [0.5104],\n",
       "        [0.5116],\n",
       "        [0.5084],\n",
       "        [0.5088],\n",
       "        [0.5149],\n",
       "        [0.5104],\n",
       "        [0.5086],\n",
       "        [0.5128],\n",
       "        [0.5176],\n",
       "        [0.5087],\n",
       "        [0.5163],\n",
       "        [0.5167],\n",
       "        [0.5105],\n",
       "        [0.5009],\n",
       "        [0.5170],\n",
       "        [0.5129],\n",
       "        [0.5172],\n",
       "        [0.5102],\n",
       "        [0.5181],\n",
       "        [0.5166],\n",
       "        [0.5116],\n",
       "        [0.5153],\n",
       "        [0.5160],\n",
       "        [0.5135],\n",
       "        [0.5153],\n",
       "        [0.5160],\n",
       "        [0.5087],\n",
       "        [0.5184],\n",
       "        [0.5150],\n",
       "        [0.5067],\n",
       "        [0.5156],\n",
       "        [0.5113],\n",
       "        [0.5175],\n",
       "        [0.5155],\n",
       "        [0.5171],\n",
       "        [0.5119],\n",
       "        [0.5184],\n",
       "        [0.5093],\n",
       "        [0.5175],\n",
       "        [0.5048],\n",
       "        [0.5135],\n",
       "        [0.5143],\n",
       "        [0.5174],\n",
       "        [0.5180],\n",
       "        [0.5166],\n",
       "        [0.5178],\n",
       "        [0.5056],\n",
       "        [0.5144],\n",
       "        [0.5167],\n",
       "        [0.5185],\n",
       "        [0.5170],\n",
       "        [0.5112],\n",
       "        [0.5109],\n",
       "        [0.5136],\n",
       "        [0.5130],\n",
       "        [0.5167],\n",
       "        [0.5170],\n",
       "        [0.5121],\n",
       "        [0.5146],\n",
       "        [0.5138],\n",
       "        [0.5164],\n",
       "        [0.5161],\n",
       "        [0.5110],\n",
       "        [0.5172],\n",
       "        [0.5157],\n",
       "        [0.5174],\n",
       "        [0.5131],\n",
       "        [0.5171],\n",
       "        [0.5119],\n",
       "        [0.5171],\n",
       "        [0.5168],\n",
       "        [0.5188],\n",
       "        [0.5186],\n",
       "        [0.5165],\n",
       "        [0.5136],\n",
       "        [0.5180],\n",
       "        [0.5071],\n",
       "        [0.5161],\n",
       "        [0.5077],\n",
       "        [0.5174],\n",
       "        [0.5145],\n",
       "        [0.5141],\n",
       "        [0.5140],\n",
       "        [0.5092],\n",
       "        [0.5085],\n",
       "        [0.5049],\n",
       "        [0.5093],\n",
       "        [0.5081],\n",
       "        [0.5101],\n",
       "        [0.5086],\n",
       "        [0.5148],\n",
       "        [0.5045],\n",
       "        [0.5115],\n",
       "        [0.5173]], grad_fn=<SigmoidBackward0>)"
      ]
     },
     "execution_count": 36,
     "metadata": {},
     "output_type": "execute_result"
    }
   ],
   "source": [
    "pred"
   ]
  },
  {
   "cell_type": "code",
   "execution_count": null,
   "id": "a4758aae-d647-445a-94c5-e7e61ee67502",
   "metadata": {},
   "outputs": [],
   "source": []
  }
 ],
 "metadata": {
  "kernelspec": {
   "display_name": "Python 3 (ipykernel)",
   "language": "python",
   "name": "python3"
  },
  "language_info": {
   "codemirror_mode": {
    "name": "ipython",
    "version": 3
   },
   "file_extension": ".py",
   "mimetype": "text/x-python",
   "name": "python",
   "nbconvert_exporter": "python",
   "pygments_lexer": "ipython3",
   "version": "3.10.13"
  }
 },
 "nbformat": 4,
 "nbformat_minor": 5
}
